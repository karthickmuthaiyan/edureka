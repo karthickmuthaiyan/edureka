{
 "cells": [
  {
   "cell_type": "code",
   "execution_count": 12,
   "metadata": {},
   "outputs": [
    {
     "name": "stdout",
     "output_type": "stream",
     "text": [
      "Enter your name : Sampriti\n",
      "So, you are  Sampriti\n"
     ]
    }
   ],
   "source": [
    "name=input(\"Enter your name : \")\n",
    "print(\"So, you are \", name)"
   ]
  },
  {
   "cell_type": "code",
   "execution_count": 13,
   "metadata": {},
   "outputs": [
    {
     "data": {
      "text/plain": [
       "b'/home/edureka/Codes\\n'"
      ]
     },
     "execution_count": 13,
     "metadata": {},
     "output_type": "execute_result"
    }
   ],
   "source": [
    "import subprocess\n",
    "subprocess.check_output(\"pwd\")"
   ]
  },
  {
   "cell_type": "code",
   "execution_count": 14,
   "metadata": {},
   "outputs": [
    {
     "name": "stdout",
     "output_type": "stream",
     "text": [
      "print(\"Hello World\")\n",
      "print(\"Welcome to Edureka!!!\")\n",
      "fobj=open(\"program.py\")\n",
      "line=fobj.readline()\n",
      "while line:\n",
      "    print(line,end=\"\")\n",
      "    line=fobj.readline()\n",
      "    ctr+=1\n",
      "\n",
      "fobj.close()"
     ]
    }
   ],
   "source": [
    "fobj=open(\"program.py\")\n",
    "line=fobj.readline()\n",
    "while line:\n",
    "    print(line,end=\"\")\n",
    "    line=fobj.readline()\n",
    "\n",
    "fobj.close()"
   ]
  },
  {
   "cell_type": "code",
   "execution_count": 15,
   "metadata": {},
   "outputs": [
    {
     "name": "stdout",
     "output_type": "stream",
     "text": [
      "print(\"Hello World\")\n",
      "print(\"Welcome to Edureka!!!\")\n",
      "fobj=open(\"program.py\")\n",
      "line=fobj.readline()\n",
      "while line:\n",
      "    print(line,end=\"\")\n",
      "    line=fobj.readline()\n",
      "    ctr+=1\n",
      "\n",
      "fobj.close()"
     ]
    }
   ],
   "source": [
    "fobj=open(\"program.py\")\n",
    "line=fobj.readline()\n",
    "while line:\n",
    "    print(line,end=\"\")\n",
    "    line=fobj.readline()\n",
    "\n",
    "fobj.close()"
   ]
  },
  {
   "cell_type": "code",
   "execution_count": 16,
   "metadata": {},
   "outputs": [],
   "source": [
    "rfobj=open(\"program.py\",\"r\")\n",
    "wfobj=open(\"newprogram.py\",\"w\")\n",
    "line=rfobj.readline()\n",
    "while line:\n",
    "    wfobj.write(line)\n",
    "    line=rfobj.readline()\n",
    "\n",
    "fobj.close()"
   ]
  },
  {
   "cell_type": "code",
   "execution_count": 17,
   "metadata": {},
   "outputs": [
    {
     "data": {
      "text/plain": [
       "True"
      ]
     },
     "execution_count": 17,
     "metadata": {},
     "output_type": "execute_result"
    }
   ],
   "source": [
    "bool(' ')"
   ]
  },
  {
   "cell_type": "code",
   "execution_count": 18,
   "metadata": {},
   "outputs": [
    {
     "data": {
      "text/plain": [
       "b'newprogram.py\\nprogram.py\\nSession 2.ipynb\\n'"
      ]
     },
     "execution_count": 18,
     "metadata": {},
     "output_type": "execute_result"
    }
   ],
   "source": [
    "import subprocess\n",
    "subprocess.check_output(\"ls\")"
   ]
  },
  {
   "cell_type": "code",
   "execution_count": 21,
   "metadata": {},
   "outputs": [],
   "source": [
    "import os\n",
    "os.rename(\"newprogram.py\",\"myprogram.py\")"
   ]
  },
  {
   "cell_type": "code",
   "execution_count": 22,
   "metadata": {},
   "outputs": [],
   "source": [
    "os.remove(\"myprogram.py\")"
   ]
  },
  {
   "cell_type": "code",
   "execution_count": 23,
   "metadata": {},
   "outputs": [
    {
     "name": "stdout",
     "output_type": "stream",
     "text": [
      "print(\"Hello World\")\n",
      "print(\"Hello World\")\n",
      "print(\"Welcome to Edureka!!!\")\n",
      "print(\"Welcome to Edureka!!!\")\n",
      "fobj=open(\"program.py\")\n",
      "fobj=open(\"program.py\")\n",
      "line=fobj.readline()\n",
      "line=fobj.readline()\n",
      "while line:\n",
      "while line:\n",
      "    print(line,end=\"\")\n",
      "    print(line,end=\"\")\n",
      "    line=fobj.readline()\n",
      "    line=fobj.readline()\n",
      "    ctr+=1\n",
      "    ctr+=1\n",
      "\n",
      "\n",
      "fobj.close()fobj.close()"
     ]
    }
   ],
   "source": [
    "fobj=open(\"program.py\")\n",
    "position=fobj.tell()\n",
    "line=fobj.readline()\n",
    "while line:\n",
    "    print(line,end=\"\")\n",
    "    fobj.seek(position)\n",
    "    line=fobj.readline()\n",
    "    print(line,end=\"\")\n",
    "    position=fobj.tell()\n",
    "    line=fobj.readline()\n",
    "\n",
    "fobj.close()\n"
   ]
  },
  {
   "cell_type": "code",
   "execution_count": 24,
   "metadata": {},
   "outputs": [
    {
     "name": "stdout",
     "output_type": "stream",
     "text": [
      "List : ['Marketing', 'Content Design', 'Sales']\n",
      "Concatenated list ['Marketing', 'Content Design', 'Sales', 'Python', 'Hadoop', 'R']\n",
      "Repeated List :  ['Marketing', 'Content Design', 'Sales', 'Marketing', 'Content Design', 'Sales']\n",
      "Is Sales a memeber of the list True\n",
      "The zeroth element of the list is  Marketing\n",
      "Slice ['Marketing', 'Content Design']\n"
     ]
    }
   ],
   "source": [
    "lst=[\"Marketing\",\"Content Design\", \"Sales\"]\n",
    "print(\"List :\", lst)\n",
    "print(\"Concatenated list\", lst+[\"Python\", \"Hadoop\", \"R\"])\n",
    "print(\"Repeated List : \", lst * 2)\n",
    "print(\"Is Sales a memeber of the list\", 'Sales' in lst)\n",
    "print(\"The zeroth element of the list is \", lst[0])\n",
    "print(\"Slice\", lst[0:2])"
   ]
  },
  {
   "cell_type": "code",
   "execution_count": 25,
   "metadata": {},
   "outputs": [
    {
     "name": "stdout",
     "output_type": "stream",
     "text": [
      "['Water Melon', 'Draw cash', 'Juice', 'Clothes', 'utensils', 'Draw cash', 'Clothes', 'utensils', 'Draw cash', 'Call sister']\n",
      "['Water Melon', 'Draw cash', 'Draw cash', 'Clothes', 'utensils', 'Draw cash', 'Call sister']\n"
     ]
    }
   ],
   "source": [
    "lst=[\"Fruits\",\"Juice\",\"Draw cash\",\"Fruits\",\"Juice\", \"Clothes\", \"utensils\",\"Draw cash\", \"Clothes\", \"utensils\",\"Draw cash\"]\n",
    "lst.append(\"Call sister\")\n",
    "del(lst[0])\n",
    "del(lst[2])\n",
    "lst[0]=\"Water Melon\"\n",
    "print(lst)\n",
    "del(lst[2:5])\n",
    "\n",
    "print(lst)\n"
   ]
  },
  {
   "cell_type": "code",
   "execution_count": 26,
   "metadata": {},
   "outputs": [
    {
     "name": "stdout",
     "output_type": "stream",
     "text": [
      "[0, 1, 2, 3, 4, 5]\n",
      "[0, 1, 2, 3, 4, 5, 6]\n",
      "[0, 1, 2, 3, 4, 5, 6, [7, 8]]\n",
      "[0, 1, 2, 3, 4, 5, 6, [7, 8], 9, 10]\n",
      "[10, 9, [7, 8], 6, 5, 4, 3, 2, 1, 0]\n"
     ]
    }
   ],
   "source": [
    "lst=[0,1,2,3,4,5]\n",
    "print(lst)\n",
    "lst.append(6)\n",
    "print(lst)\n",
    "lst2=[7,8]\n",
    "lst.append(lst2)\n",
    "print(lst)\n",
    "lst3=[9,10]\n",
    "lst.extend(lst3)\n",
    "print(lst)\n",
    "lst.insert(1,0.5)\n",
    "del(lst[1])\n",
    "print(lst[::-1])\n",
    "#print(lst[::-2])\n",
    "#print(lst[::-3])"
   ]
  },
  {
   "cell_type": "code",
   "execution_count": 27,
   "metadata": {},
   "outputs": [
    {
     "name": "stdout",
     "output_type": "stream",
     "text": [
      "5\n",
      "python\n",
      "c\n",
      "('c', 'c++', 'c#', 'java', 'python', 'c', 'c++', 'c#', 'java', 'python', 'c', 'c++', 'c#', 'java', 'python')\n",
      "True\n",
      "['c', 'c#', 'c++', 'java', 'python']\n",
      "('python', 'java', 'c#', 'c++', 'c')\n"
     ]
    }
   ],
   "source": [
    "t=(\"c\",\"c++\",\"c#\",\"java\", \"python\")\n",
    "print(len(t))\n",
    "print(max(t))\n",
    "print(min(t))\n",
    "print(t*3)\n",
    "print(\"python\" in t)\n",
    "print(sorted(t))\n",
    "print(t[::-1])"
   ]
  },
  {
   "cell_type": "code",
   "execution_count": 28,
   "metadata": {},
   "outputs": [
    {
     "name": "stdout",
     "output_type": "stream",
     "text": [
      "(0, 1, 3, 4, 5)\n",
      "(0, 1, 2, 3, 4, 5)\n",
      "(0, 1, 2, 3, 4, 5, 6)\n",
      "(0, 1, 'two', 2, 3, 4, 5, 6)\n",
      "(0, 1, 2, 3, 4, 5, 6)\n"
     ]
    }
   ],
   "source": [
    "t=(0,1,3,4,5)\n",
    "print(t)\n",
    "t=t[:2]+(2,)+t[2:]\n",
    "print(t)\n",
    "t=t[:len(t)]+(6,)\n",
    "print(t)\n",
    "t=t[:2]+(\"two\",)+t[2:]\n",
    "print(t)\n",
    "t=t[:2]+t[3:]\n",
    "print(t)"
   ]
  },
  {
   "cell_type": "code",
   "execution_count": 29,
   "metadata": {},
   "outputs": [
    {
     "name": "stdout",
     "output_type": "stream",
     "text": [
      "([100, '01', '02'], [10, 11, 12], [20, 21, 22])\n",
      "([100, [100, 111, 222], '02'], [10, 11, 12], [20, 21, 22])\n"
     ]
    }
   ],
   "source": [
    "matrix=(['00','01','02'],[10,11,12],[20,21,22])\n",
    "matrix[0][0]=100\n",
    "print(matrix)\n",
    "matrix[0][1]=[100,111,222]\n",
    "print(matrix)"
   ]
  },
  {
   "cell_type": "code",
   "execution_count": 30,
   "metadata": {},
   "outputs": [
    {
     "name": "stdout",
     "output_type": "stream",
     "text": [
      "18\n",
      "Welcome to edureka\n",
      "WELCOME TO EDUREKA\n",
      "welcome to edureka\n",
      "w2lcom2 to 2dur2ka\n"
     ]
    }
   ],
   "source": [
    "string=\"welcome to edureka\"\n",
    "print(len(string))\n",
    "print(string.capitalize())\n",
    "print(string.upper())\n",
    "print(string.lower())\n",
    "print(string.replace('e','2'))\n",
    "\n"
   ]
  },
  {
   "cell_type": "code",
   "execution_count": 31,
   "metadata": {},
   "outputs": [
    {
     "name": "stdout",
     "output_type": "stream",
     "text": [
      "{'c', 'r', 'l', 'a', ' ', 'e', 'm', 't', 'd', 'E', 'k', 'W', 'u', 'o'}\n",
      "<class 'set'>\n"
     ]
    }
   ],
   "source": [
    "Newset=set(\"Welcome to Edureka\")\n",
    "print(Newset)\n",
    "print(type(Newset))\n"
   ]
  },
  {
   "cell_type": "code",
   "execution_count": 32,
   "metadata": {},
   "outputs": [
    {
     "name": "stdout",
     "output_type": "stream",
     "text": [
      "{'Sachin': 100, 'Dhoni': 52}\n",
      "106\n",
      "{'Sachin': 106, 'Dhoni': 52, 'Kapil': 80}\n",
      "dict_keys(['Sachin', 'Dhoni', 'Kapil'])\n",
      "dict_values([106, 52, 80])\n",
      "dict_items([('Sachin', 106), ('Dhoni', 52), ('Kapil', 80)])\n",
      "<class 'str'>\n",
      "Sachin 106\n",
      "Dhoni 52\n",
      "Kapil 80\n",
      "{}\n"
     ]
    }
   ],
   "source": [
    "Scores={\"Sachin\":100, \"Dhoni\":52}\n",
    "print(Scores)\n",
    "Scores[\"Sachin\"]+=6\n",
    "print(Scores[\"Sachin\"])\n",
    "Scores[\"Kapil\"]=80\n",
    "print(Scores)\n",
    "print(Scores.keys())\n",
    "print(Scores.values())\n",
    "print(Scores.items())\n",
    "s=str(Scores)\n",
    "print(type(s))\n",
    "for player in Scores.keys():\n",
    "    print (player,Scores[player])\n",
    "Scores.get(\"Sachin\")\n",
    "newscores=Scores.copy()\n",
    "newscores[\"Sehwag\"]=40\n",
    "Scores.clear()\n",
    "print(Scores)"
   ]
  },
  {
   "cell_type": "code",
   "execution_count": null,
   "metadata": {},
   "outputs": [],
   "source": []
  }
 ],
 "metadata": {
  "kernelspec": {
   "display_name": "Python 3",
   "language": "python",
   "name": "python3"
  },
  "language_info": {
   "codemirror_mode": {
    "name": "ipython",
    "version": 3
   },
   "file_extension": ".py",
   "mimetype": "text/x-python",
   "name": "python",
   "nbconvert_exporter": "python",
   "pygments_lexer": "ipython3",
   "version": "3.6.7"
  }
 },
 "nbformat": 4,
 "nbformat_minor": 2
}
